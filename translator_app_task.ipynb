{
 "cells": [
  {
   "cell_type": "code",
   "execution_count": 6,
   "id": "98573a84",
   "metadata": {
    "scrolled": true
   },
   "outputs": [
    {
     "name": "stdout",
     "output_type": "stream",
     "text": [
      "Requirement already satisfied: translate in c:\\users\\m.darshini\\anaconda3\\lib\\site-packages (3.6.1)Note: you may need to restart the kernel to use updated packages.\n",
      "\n",
      "Requirement already satisfied: click in c:\\users\\m.darshini\\anaconda3\\lib\\site-packages (from translate) (8.0.4)\n",
      "Requirement already satisfied: lxml in c:\\users\\m.darshini\\anaconda3\\lib\\site-packages (from translate) (4.9.2)\n",
      "Requirement already satisfied: requests in c:\\users\\m.darshini\\anaconda3\\lib\\site-packages (from translate) (2.29.0)\n",
      "Requirement already satisfied: libretranslatepy==2.1.1 in c:\\users\\m.darshini\\anaconda3\\lib\\site-packages (from translate) (2.1.1)\n",
      "Requirement already satisfied: colorama in c:\\users\\m.darshini\\anaconda3\\lib\\site-packages (from click->translate) (0.4.6)\n",
      "Requirement already satisfied: charset-normalizer<4,>=2 in c:\\users\\m.darshini\\anaconda3\\lib\\site-packages (from requests->translate) (2.0.4)\n",
      "Requirement already satisfied: idna<4,>=2.5 in c:\\users\\m.darshini\\anaconda3\\lib\\site-packages (from requests->translate) (2.10)\n",
      "Requirement already satisfied: urllib3<1.27,>=1.21.1 in c:\\users\\m.darshini\\anaconda3\\lib\\site-packages (from requests->translate) (1.26.16)\n",
      "Requirement already satisfied: certifi>=2017.4.17 in c:\\users\\m.darshini\\anaconda3\\lib\\site-packages (from requests->translate) (2023.5.7)\n"
     ]
    }
   ],
   "source": [
    "pip install translate"
   ]
  },
  {
   "cell_type": "code",
   "execution_count": 1,
   "id": "2632b31f",
   "metadata": {},
   "outputs": [],
   "source": [
    "from tkinter import *\n",
    "from tkinter import ttk\n",
    "from googletrans import Translator , LANGUAGES\n",
    "\n",
    "root = Tk()\n",
    "root.geometry('980x500')\n",
    "root.resizable(0,0)\n",
    "root.title(\"Language Translator\")\n",
    "root.config(bg = 'light coral')\n",
    "\n",
    "Label(root, text = \"LANGUAGE TRANSLATOR\", font = \"arial 20 bold\", fg='black', bg='white').pack()\n",
    "Label(root,text =\"Made By Darshini\", font = 'arial 16', fg='black', bg='light coral' , height = '5', width = '20').pack(side = 'bottom')\n",
    "\n",
    "Input_text = Text(root,font = 'arial 14', height = 11, fg= 'black', bg='white', wrap = WORD, padx=5, pady=5, width = 30)\n",
    "Input_text.place(x=50,y = 100)\n",
    "\n",
    "Output_text = Text(root,font = 'arial 14', height = 11, fg= 'black', bg='white', wrap = WORD, padx=3, pady=3, width = 30)\n",
    "Output_text.place(x = 600 , y = 100)\n",
    " \n",
    "\n",
    "language = list(LANGUAGES.values())\n",
    "\n",
    "src_lang = ttk.Combobox(root, values= ('english','hindi','dutch','bengali','urdu','tamil','telugu','french','spanish','japanese','german','portugese','kannada','malayalam'), width =22)\n",
    "src_lang.place(x=150,y=60)\n",
    "src_lang.set('Select input language')\n",
    "src_lang.configure(state='readonly')\n",
    "\n",
    "dest_lang = ttk.Combobox(root, values= ('english','hindi','dutch','bengali','urdu','tamil','telugu','french','spanish','japanese','german','portugese','kannada','malayalam'), width =22)\n",
    "dest_lang.place(x=700,y=60)\n",
    "dest_lang.set('Select output language')\n",
    "dest_lang.configure(state='readonly')\n",
    "\n",
    "def Translate():\n",
    "    translator = Translator()\n",
    "    translated=translator.translate(text= Input_text.get(1.0, END) , src = src_lang.get(), dest = dest_lang.get())\n",
    "    Output_text.delete(1.0, END)\n",
    "    Output_text.insert(END, translated.text)\n",
    "   \n",
    "trans_btn = Button(root, text = 'Translate',font = 'arial 12 bold',pady = 5,command = Translate ,fg='black', bg = 'white', activebackground = 'grey',width=8)\n",
    "trans_btn.place(x = 455, y = 180)\n",
    "\n",
    "def Clear():\n",
    "    Input_text.delete(0.0, END)\n",
    "    Output_text.delete(1.0, END)\n",
    "    dest_lang.set('Choose language')\n",
    "\n",
    "clear_btn = Button(root, text='Clear', font='arial 12 bold', pady=5, command=Clear, fg='black', bg='white', activebackground='grey',width=8)\n",
    "clear_btn.place(x=455, y=250)\n",
    "\n",
    "\n",
    "root.mainloop()"
   ]
  },
  {
   "cell_type": "code",
   "execution_count": null,
   "id": "c69e1da9",
   "metadata": {},
   "outputs": [],
   "source": []
  }
 ],
 "metadata": {
  "kernelspec": {
   "display_name": "Python 3 (ipykernel)",
   "language": "python",
   "name": "python3"
  },
  "language_info": {
   "codemirror_mode": {
    "name": "ipython",
    "version": 3
   },
   "file_extension": ".py",
   "mimetype": "text/x-python",
   "name": "python",
   "nbconvert_exporter": "python",
   "pygments_lexer": "ipython3",
   "version": "3.11.3"
  }
 },
 "nbformat": 4,
 "nbformat_minor": 5
}
